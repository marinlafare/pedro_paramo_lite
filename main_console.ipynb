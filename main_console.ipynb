{
 "cells": [
  {
   "cell_type": "code",
   "execution_count": 1,
   "id": "42b7ffd8-03e0-46a9-ae6f-879b94c94677",
   "metadata": {},
   "outputs": [],
   "source": [
    "import os\n",
    "from pedro_paramo_api.database.engine import init_db"
   ]
  },
  {
   "cell_type": "code",
   "execution_count": null,
   "id": "1f6a0b0c-10c0-424e-98a3-e9be527b171d",
   "metadata": {},
   "outputs": [],
   "source": []
  },
  {
   "cell_type": "code",
   "execution_count": null,
   "id": "a339be52-a543-47fb-932b-391a62484ab6",
   "metadata": {},
   "outputs": [],
   "source": []
  },
  {
   "cell_type": "code",
   "execution_count": null,
   "id": "e0821c34-ede2-4c07-a78c-c731c8fb89dd",
   "metadata": {},
   "outputs": [],
   "source": []
  },
  {
   "cell_type": "code",
   "execution_count": null,
   "id": "49c52582-4c99-46e7-956c-aeaac07e0dfd",
   "metadata": {},
   "outputs": [],
   "source": []
  },
  {
   "cell_type": "code",
   "execution_count": null,
   "id": "3fc5191c-eba5-4637-b9ed-af53ff14cc2a",
   "metadata": {},
   "outputs": [],
   "source": []
  },
  {
   "cell_type": "code",
   "execution_count": null,
   "id": "cc21fff4-caa7-47e0-bb88-6a4737488596",
   "metadata": {},
   "outputs": [],
   "source": []
  },
  {
   "cell_type": "code",
   "execution_count": null,
   "id": "d3915989-b80e-41dd-9e50-e705e6e15bb2",
   "metadata": {},
   "outputs": [],
   "source": []
  },
  {
   "cell_type": "code",
   "execution_count": null,
   "id": "38cce221-5e08-49fe-af97-ff8ee7972bef",
   "metadata": {},
   "outputs": [],
   "source": []
  },
  {
   "cell_type": "code",
   "execution_count": null,
   "id": "53d46023-e529-4f72-93b3-4c3b4820b6a7",
   "metadata": {},
   "outputs": [],
   "source": []
  },
  {
   "cell_type": "code",
   "execution_count": null,
   "id": "aaed1283-6249-4945-9821-f762401b0e5d",
   "metadata": {},
   "outputs": [],
   "source": []
  },
  {
   "cell_type": "code",
   "execution_count": null,
   "id": "3e77a77f-bb7b-4c88-8914-8c18bb0554d2",
   "metadata": {},
   "outputs": [],
   "source": []
  },
  {
   "cell_type": "code",
   "execution_count": null,
   "id": "ec3aa4d2-a899-465f-badb-91a6d1fbf526",
   "metadata": {},
   "outputs": [],
   "source": []
  },
  {
   "cell_type": "code",
   "execution_count": null,
   "id": "a7e68946-6a5f-40a9-aeb2-415959cb3ed5",
   "metadata": {},
   "outputs": [],
   "source": []
  },
  {
   "cell_type": "code",
   "execution_count": null,
   "id": "12335586-0f78-43d7-8617-e4804d880bdf",
   "metadata": {},
   "outputs": [],
   "source": []
  },
  {
   "cell_type": "code",
   "execution_count": null,
   "id": "aaa41eef-c0d8-436f-9c73-117b5e3877db",
   "metadata": {},
   "outputs": [],
   "source": []
  },
  {
   "cell_type": "code",
   "execution_count": null,
   "id": "a3b1ee96-37f6-45dd-914c-045326acc765",
   "metadata": {},
   "outputs": [],
   "source": []
  },
  {
   "cell_type": "code",
   "execution_count": null,
   "id": "90775f33-7011-453c-9e76-61319c3395f6",
   "metadata": {},
   "outputs": [],
   "source": []
  },
  {
   "cell_type": "code",
   "execution_count": null,
   "id": "e7ef3640-7f26-4b47-b56e-afcbf7b3a69e",
   "metadata": {},
   "outputs": [],
   "source": []
  },
  {
   "cell_type": "code",
   "execution_count": null,
   "id": "17ab1e45-20be-4632-bf59-ba55430c5c9d",
   "metadata": {},
   "outputs": [],
   "source": []
  },
  {
   "cell_type": "code",
   "execution_count": null,
   "id": "5914d8f9-94e3-417e-aaff-f50c5f9660da",
   "metadata": {},
   "outputs": [],
   "source": []
  },
  {
   "cell_type": "code",
   "execution_count": null,
   "id": "1da5521f-e052-4f10-b770-87b68d2ef634",
   "metadata": {},
   "outputs": [],
   "source": []
  },
  {
   "cell_type": "code",
   "execution_count": null,
   "id": "f18c69bd-e475-4cf9-97ad-8c0cc9df3f43",
   "metadata": {},
   "outputs": [],
   "source": []
  },
  {
   "cell_type": "code",
   "execution_count": null,
   "id": "64e0ea12-4eda-4d38-b081-361bf473d79b",
   "metadata": {},
   "outputs": [],
   "source": []
  },
  {
   "cell_type": "code",
   "execution_count": null,
   "id": "5e8b929b-770e-4c6a-bc75-a2b8702a22be",
   "metadata": {},
   "outputs": [],
   "source": []
  },
  {
   "cell_type": "code",
   "execution_count": null,
   "id": "a96346bc-1fe3-474e-903a-c093e69d65b6",
   "metadata": {},
   "outputs": [],
   "source": []
  },
  {
   "cell_type": "code",
   "execution_count": null,
   "id": "a92b6c43-801c-44bc-9050-cf8f14160255",
   "metadata": {},
   "outputs": [],
   "source": []
  },
  {
   "cell_type": "code",
   "execution_count": null,
   "id": "d9236171-4c75-4e24-8e8d-a7633f287830",
   "metadata": {},
   "outputs": [],
   "source": []
  },
  {
   "cell_type": "code",
   "execution_count": null,
   "id": "919b5385-5bf1-4975-a198-705de81c3e40",
   "metadata": {},
   "outputs": [],
   "source": []
  },
  {
   "cell_type": "code",
   "execution_count": null,
   "id": "86492985-e2d9-4b7b-adb0-877278df6525",
   "metadata": {},
   "outputs": [],
   "source": []
  },
  {
   "cell_type": "code",
   "execution_count": null,
   "id": "b9365970-b011-4cc0-aa91-07e8bf818d95",
   "metadata": {},
   "outputs": [],
   "source": []
  },
  {
   "cell_type": "code",
   "execution_count": null,
   "id": "4be22a97-cc71-4cdc-afa3-a6c55e5f5bb9",
   "metadata": {},
   "outputs": [],
   "source": []
  },
  {
   "cell_type": "code",
   "execution_count": null,
   "id": "ae0856d4-9bbf-475a-b189-a76e38e2ffb0",
   "metadata": {},
   "outputs": [],
   "source": []
  },
  {
   "cell_type": "code",
   "execution_count": null,
   "id": "c2ded0ad-5e75-4cd1-88a5-6aadf1ca2218",
   "metadata": {},
   "outputs": [],
   "source": []
  },
  {
   "cell_type": "code",
   "execution_count": 5,
   "id": "f7e3d4a9-1662-4c43-8ad2-b0ad49c5e588",
   "metadata": {},
   "outputs": [],
   "source": [
    "def print_folder_tree(startpath):\n",
    "    \"\"\"\n",
    "    Prints the directory tree structure starting from the given path.\n",
    "    Ignores the .git folder.\n",
    "\n",
    "    Args:\n",
    "        startpath (str): The root directory from which to start printing the tree.\n",
    "    \"\"\"\n",
    "    if not os.path.isdir(startpath):\n",
    "        print(f\"Error: '{startpath}' is not a valid directory.\")\n",
    "        return\n",
    "\n",
    "    print(f\"Folder tree for: {startpath}\\n\")\n",
    "    for root, dirs, files in os.walk(startpath):\n",
    "        # Calculate the current level of depth\n",
    "        level = root.replace(startpath, '').count(os.sep)\n",
    "        # Determine the indentation for the current level\n",
    "        indent = ' ' * 4 * (level)\n",
    "\n",
    "        # Modify dirs in-place to skip .git directory\n",
    "        # This is crucial for os.walk to not descend into .git\n",
    "        if '.git' in dirs:\n",
    "            dirs.remove('.git')\n",
    "\n",
    "        # Get the base name of the current directory\n",
    "        print(f'{indent}├── {os.path.basename(root)}/')\n",
    "        # Prepare indentation for files within the current directory\n",
    "        subindent = ' ' * 4 * (level + 1)\n",
    "        for f in files:\n",
    "            # Print each file with appropriate indentation\n",
    "            print(f'{subindent}├── {f}')"
   ]
  },
  {
   "cell_type": "code",
   "execution_count": 7,
   "id": "b6156c88-fd64-4431-8b24-7bda4ccd9117",
   "metadata": {},
   "outputs": [
    {
     "name": "stdout",
     "output_type": "stream",
     "text": [
      "Folder tree for: /home/jon/workshop/literary_stuff/pedro_paramo/pedro_paramo_lite/pedro_paramo_lite\n",
      "\n",
      "├── pedro_paramo_lite/\n",
      "    ├── LICENSE\n",
      "    ├── main.py\n",
      "    ├── requirements.txt\n",
      "    ├── .gitignore\n",
      "    ├── .env\n",
      "    ├── README.md\n",
      "    ├── docker-compose.yml\n",
      "    ├── __init__.py\n",
      "    ├── main_console.ipynb\n",
      "    ├── Dockerfile\n",
      "    ├── .ipynb_checkpoints/\n",
      "        ├── main-checkpoint.py\n",
      "        ├── main_console-checkpoint.ipynb\n",
      "        ├── requirements-checkpoint.txt\n",
      "        ├── docker-compose-checkpoint.yml\n",
      "        ├── Dockerfile-checkpoint\n",
      "    ├── pedro_paramo_api/\n",
      "        ├── __init__.py\n",
      "        ├── database/\n",
      "            ├── models.py\n",
      "            ├── db_interface.py\n",
      "            ├── __init__.py\n",
      "            ├── engine.py\n",
      "            ├── ask_db.py\n",
      "            ├── .ipynb_checkpoints/\n",
      "                ├── engine-checkpoint.py\n",
      "                ├── models-checkpoint.py\n",
      "                ├── ask_db-checkpoint.py\n",
      "                ├── db_interface-checkpoint.py\n",
      "            ├── source/\n",
      "                ├── dissection_table_backup.dump\n",
      "        ├── routers/\n",
      "            ├── corpus.py\n",
      "            ├── __init__.py\n",
      "            ├── .ipynb_checkpoints/\n",
      "                ├── corpus-checkpoint.py\n",
      "        ├── operations/\n",
      "            ├── frequencies.py\n",
      "            ├── corpus.py\n",
      "            ├── sources.py\n",
      "            ├── __init__.py\n",
      "            ├── .ipynb_checkpoints/\n",
      "                ├── frequencies-checkpoint.py\n",
      "                ├── corpus-checkpoint.py\n",
      "                ├── sources-checkpoint.py\n"
     ]
    }
   ],
   "source": [
    "print_folder_tree(os.getcwd())"
   ]
  },
  {
   "cell_type": "code",
   "execution_count": null,
   "id": "b51b62c5-0cee-443f-817e-e9b29d48a9b9",
   "metadata": {},
   "outputs": [],
   "source": []
  }
 ],
 "metadata": {
  "kernelspec": {
   "display_name": "real_real_nlp",
   "language": "python",
   "name": "real_real_nlp"
  },
  "language_info": {
   "codemirror_mode": {
    "name": "ipython",
    "version": 3
   },
   "file_extension": ".py",
   "mimetype": "text/x-python",
   "name": "python",
   "nbconvert_exporter": "python",
   "pygments_lexer": "ipython3",
   "version": "3.10.18"
  }
 },
 "nbformat": 4,
 "nbformat_minor": 5
}
